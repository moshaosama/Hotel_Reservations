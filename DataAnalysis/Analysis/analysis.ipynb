{
 "cells": [
  {
   "cell_type": "code",
   "execution_count": 1,
   "metadata": {},
   "outputs": [],
   "source": [
    "import numpy as np\n",
    "import pandas as pd\n",
    "import matplotlib as plt"
   ]
  },
  {
   "cell_type": "code",
   "execution_count": 2,
   "metadata": {},
   "outputs": [
    {
     "data": {
      "text/html": [
       "<div>\n",
       "<style scoped>\n",
       "    .dataframe tbody tr th:only-of-type {\n",
       "        vertical-align: middle;\n",
       "    }\n",
       "\n",
       "    .dataframe tbody tr th {\n",
       "        vertical-align: top;\n",
       "    }\n",
       "\n",
       "    .dataframe thead th {\n",
       "        text-align: right;\n",
       "    }\n",
       "</style>\n",
       "<table border=\"1\" class=\"dataframe\">\n",
       "  <thead>\n",
       "    <tr style=\"text-align: right;\">\n",
       "      <th></th>\n",
       "      <th>hotel_id</th>\n",
       "      <th>hotel_name</th>\n",
       "      <th>SOURCE</th>\n",
       "      <th>price</th>\n",
       "      <th>base_price</th>\n",
       "      <th>checkIn</th>\n",
       "      <th>checkOut</th>\n",
       "      <th>count</th>\n",
       "      <th>rating</th>\n",
       "      <th>Info</th>\n",
       "      <th>latitude</th>\n",
       "      <th>longitude</th>\n",
       "    </tr>\n",
       "  </thead>\n",
       "  <tbody>\n",
       "    <tr>\n",
       "      <th>0</th>\n",
       "      <td>15215188</td>\n",
       "      <td>Fairmont Riyadh</td>\n",
       "      <td>all.accor.com</td>\n",
       "      <td>1605.00</td>\n",
       "      <td>NaN</td>\n",
       "      <td>2025-01-02</td>\n",
       "      <td>2025-01-03</td>\n",
       "      <td>220</td>\n",
       "      <td>4.5</td>\n",
       "      <td>NaN</td>\n",
       "      <td>24.808397</td>\n",
       "      <td>46.718050</td>\n",
       "    </tr>\n",
       "    <tr>\n",
       "      <th>1</th>\n",
       "      <td>9702375</td>\n",
       "      <td>Rosh Rayhaan by Rotana</td>\n",
       "      <td>Official Site</td>\n",
       "      <td>813.75</td>\n",
       "      <td>693.75</td>\n",
       "      <td>2025-01-02</td>\n",
       "      <td>2025-01-03</td>\n",
       "      <td>1311</td>\n",
       "      <td>4.5</td>\n",
       "      <td>['Free breakfast available', 'Free cancellation']</td>\n",
       "      <td>24.700346</td>\n",
       "      <td>46.682137</td>\n",
       "    </tr>\n",
       "    <tr>\n",
       "      <th>2</th>\n",
       "      <td>15756839</td>\n",
       "      <td>Hilton Riyadh Hotel &amp; Residences</td>\n",
       "      <td>Booking.com</td>\n",
       "      <td>1128.75</td>\n",
       "      <td>1128.75</td>\n",
       "      <td>2025-01-02</td>\n",
       "      <td>2025-01-03</td>\n",
       "      <td>1626</td>\n",
       "      <td>4.5</td>\n",
       "      <td>NaN</td>\n",
       "      <td>24.785522</td>\n",
       "      <td>46.727880</td>\n",
       "    </tr>\n",
       "    <tr>\n",
       "      <th>3</th>\n",
       "      <td>24143026</td>\n",
       "      <td>Joudyan Hotel</td>\n",
       "      <td>MakeMyTrip</td>\n",
       "      <td>588.75</td>\n",
       "      <td>472.50</td>\n",
       "      <td>2025-01-02</td>\n",
       "      <td>2025-01-03</td>\n",
       "      <td>317</td>\n",
       "      <td>5.0</td>\n",
       "      <td>['Free breakfast available', 'Free cancellation']</td>\n",
       "      <td>24.713552</td>\n",
       "      <td>46.675297</td>\n",
       "    </tr>\n",
       "    <tr>\n",
       "      <th>4</th>\n",
       "      <td>969150</td>\n",
       "      <td>Holiday Inn Riyadh - al Qasr, an IHG hotel</td>\n",
       "      <td>Booking.com</td>\n",
       "      <td>633.75</td>\n",
       "      <td>633.75</td>\n",
       "      <td>2025-01-02</td>\n",
       "      <td>2025-01-03</td>\n",
       "      <td>1073</td>\n",
       "      <td>4.5</td>\n",
       "      <td>NaN</td>\n",
       "      <td>24.683914</td>\n",
       "      <td>46.688030</td>\n",
       "    </tr>\n",
       "    <tr>\n",
       "      <th>...</th>\n",
       "      <td>...</td>\n",
       "      <td>...</td>\n",
       "      <td>...</td>\n",
       "      <td>...</td>\n",
       "      <td>...</td>\n",
       "      <td>...</td>\n",
       "      <td>...</td>\n",
       "      <td>...</td>\n",
       "      <td>...</td>\n",
       "      <td>...</td>\n",
       "      <td>...</td>\n",
       "      <td>...</td>\n",
       "    </tr>\n",
       "    <tr>\n",
       "      <th>1084</th>\n",
       "      <td>24001761</td>\n",
       "      <td>Warwick Riyadh</td>\n",
       "      <td>Agoda.com</td>\n",
       "      <td>483.75</td>\n",
       "      <td>NaN</td>\n",
       "      <td>2025-01-25</td>\n",
       "      <td>2025-01-29</td>\n",
       "      <td>5</td>\n",
       "      <td>2.5</td>\n",
       "      <td>NaN</td>\n",
       "      <td>NaN</td>\n",
       "      <td>NaN</td>\n",
       "    </tr>\n",
       "    <tr>\n",
       "      <th>1085</th>\n",
       "      <td>8470987</td>\n",
       "      <td>Al Oroba Hotel</td>\n",
       "      <td>Agoda.com</td>\n",
       "      <td>131.25</td>\n",
       "      <td>131.25</td>\n",
       "      <td>2025-01-25</td>\n",
       "      <td>2025-01-29</td>\n",
       "      <td>2</td>\n",
       "      <td>2.5</td>\n",
       "      <td>NaN</td>\n",
       "      <td>NaN</td>\n",
       "      <td>NaN</td>\n",
       "    </tr>\n",
       "    <tr>\n",
       "      <th>1086</th>\n",
       "      <td>7789088</td>\n",
       "      <td>Crowne Plaza Riyadh Rdc Hotel &amp; Convention, An...</td>\n",
       "      <td>Booking.com</td>\n",
       "      <td>3258.75</td>\n",
       "      <td>3258.75</td>\n",
       "      <td>2025-01-25</td>\n",
       "      <td>2025-01-29</td>\n",
       "      <td>331</td>\n",
       "      <td>4.5</td>\n",
       "      <td>NaN</td>\n",
       "      <td>24.738811</td>\n",
       "      <td>46.635284</td>\n",
       "    </tr>\n",
       "    <tr>\n",
       "      <th>1087</th>\n",
       "      <td>2366709</td>\n",
       "      <td>The Ritz-Carlton Riyadh</td>\n",
       "      <td>Booking.com</td>\n",
       "      <td>6570.00</td>\n",
       "      <td>3.75</td>\n",
       "      <td>2025-01-25</td>\n",
       "      <td>2025-01-29</td>\n",
       "      <td>1045</td>\n",
       "      <td>4.5</td>\n",
       "      <td>NaN</td>\n",
       "      <td>NaN</td>\n",
       "      <td>NaN</td>\n",
       "    </tr>\n",
       "    <tr>\n",
       "      <th>1088</th>\n",
       "      <td>16865982</td>\n",
       "      <td>Le Méridien Riyadh</td>\n",
       "      <td>LeMeridien.com</td>\n",
       "      <td>2895.00</td>\n",
       "      <td>NaN</td>\n",
       "      <td>2025-01-25</td>\n",
       "      <td>2025-01-29</td>\n",
       "      <td>78</td>\n",
       "      <td>4.5</td>\n",
       "      <td>['Free breakfast available', 'Free cancellatio...</td>\n",
       "      <td>NaN</td>\n",
       "      <td>NaN</td>\n",
       "    </tr>\n",
       "  </tbody>\n",
       "</table>\n",
       "<p>1089 rows × 12 columns</p>\n",
       "</div>"
      ],
      "text/plain": [
       "      hotel_id                                         hotel_name  \\\n",
       "0     15215188                                    Fairmont Riyadh   \n",
       "1      9702375                             Rosh Rayhaan by Rotana   \n",
       "2     15756839                   Hilton Riyadh Hotel & Residences   \n",
       "3     24143026                                      Joudyan Hotel   \n",
       "4       969150         Holiday Inn Riyadh - al Qasr, an IHG hotel   \n",
       "...        ...                                                ...   \n",
       "1084  24001761                                     Warwick Riyadh   \n",
       "1085   8470987                                     Al Oroba Hotel   \n",
       "1086   7789088  Crowne Plaza Riyadh Rdc Hotel & Convention, An...   \n",
       "1087   2366709                            The Ritz-Carlton Riyadh   \n",
       "1088  16865982                                 Le Méridien Riyadh   \n",
       "\n",
       "              SOURCE    price  base_price     checkIn    checkOut  count  \\\n",
       "0      all.accor.com  1605.00         NaN  2025-01-02  2025-01-03    220   \n",
       "1      Official Site   813.75      693.75  2025-01-02  2025-01-03   1311   \n",
       "2        Booking.com  1128.75     1128.75  2025-01-02  2025-01-03   1626   \n",
       "3         MakeMyTrip   588.75      472.50  2025-01-02  2025-01-03    317   \n",
       "4        Booking.com   633.75      633.75  2025-01-02  2025-01-03   1073   \n",
       "...              ...      ...         ...         ...         ...    ...   \n",
       "1084       Agoda.com   483.75         NaN  2025-01-25  2025-01-29      5   \n",
       "1085       Agoda.com   131.25      131.25  2025-01-25  2025-01-29      2   \n",
       "1086     Booking.com  3258.75     3258.75  2025-01-25  2025-01-29    331   \n",
       "1087     Booking.com  6570.00        3.75  2025-01-25  2025-01-29   1045   \n",
       "1088  LeMeridien.com  2895.00         NaN  2025-01-25  2025-01-29     78   \n",
       "\n",
       "      rating                                               Info   latitude  \\\n",
       "0        4.5                                                NaN  24.808397   \n",
       "1        4.5  ['Free breakfast available', 'Free cancellation']  24.700346   \n",
       "2        4.5                                                NaN  24.785522   \n",
       "3        5.0  ['Free breakfast available', 'Free cancellation']  24.713552   \n",
       "4        4.5                                                NaN  24.683914   \n",
       "...      ...                                                ...        ...   \n",
       "1084     2.5                                                NaN        NaN   \n",
       "1085     2.5                                                NaN        NaN   \n",
       "1086     4.5                                                NaN  24.738811   \n",
       "1087     4.5                                                NaN        NaN   \n",
       "1088     4.5  ['Free breakfast available', 'Free cancellatio...        NaN   \n",
       "\n",
       "      longitude  \n",
       "0     46.718050  \n",
       "1     46.682137  \n",
       "2     46.727880  \n",
       "3     46.675297  \n",
       "4     46.688030  \n",
       "...         ...  \n",
       "1084        NaN  \n",
       "1085        NaN  \n",
       "1086  46.635284  \n",
       "1087        NaN  \n",
       "1088        NaN  \n",
       "\n",
       "[1089 rows x 12 columns]"
      ]
     },
     "execution_count": 2,
     "metadata": {},
     "output_type": "execute_result"
    }
   ],
   "source": [
    "file_path = r\"C:\\Users\\Mohamed\\Downloads\\archive\\Riyadh_Hotels.xlsx\"\n",
    "Data = pd.read_excel(file_path, engine=\"openpyxl\")\n",
    "Data"
   ]
  },
  {
   "cell_type": "code",
   "execution_count": 3,
   "metadata": {},
   "outputs": [
    {
     "data": {
      "text/plain": [
       "1089"
      ]
     },
     "execution_count": 3,
     "metadata": {},
     "output_type": "execute_result"
    }
   ],
   "source": [
    "Data.__len__()"
   ]
  },
  {
   "cell_type": "code",
   "execution_count": 4,
   "metadata": {},
   "outputs": [
    {
     "data": {
      "text/plain": [
       "hotel_id        0\n",
       "hotel_name      0\n",
       "SOURCE          0\n",
       "price          60\n",
       "base_price    249\n",
       "checkIn         0\n",
       "checkOut        0\n",
       "count           0\n",
       "rating          0\n",
       "Info          758\n",
       "latitude      438\n",
       "longitude     438\n",
       "dtype: int64"
      ]
     },
     "execution_count": 4,
     "metadata": {},
     "output_type": "execute_result"
    }
   ],
   "source": [
    "Data.isnull().sum()"
   ]
  },
  {
   "cell_type": "code",
   "execution_count": 5,
   "metadata": {},
   "outputs": [],
   "source": [
    "Data.dropna( axis=0, inplace=True)"
   ]
  },
  {
   "cell_type": "code",
   "execution_count": 6,
   "metadata": {},
   "outputs": [
    {
     "data": {
      "text/plain": [
       "255"
      ]
     },
     "execution_count": 6,
     "metadata": {},
     "output_type": "execute_result"
    }
   ],
   "source": [
    "Data.__len__()"
   ]
  },
  {
   "cell_type": "code",
   "execution_count": 7,
   "metadata": {},
   "outputs": [
    {
     "data": {
      "text/plain": [
       "hotel_id      0\n",
       "hotel_name    0\n",
       "SOURCE        0\n",
       "price         0\n",
       "base_price    0\n",
       "checkIn       0\n",
       "checkOut      0\n",
       "count         0\n",
       "rating        0\n",
       "Info          0\n",
       "latitude      0\n",
       "longitude     0\n",
       "dtype: int64"
      ]
     },
     "execution_count": 7,
     "metadata": {},
     "output_type": "execute_result"
    }
   ],
   "source": [
    "Data.isnull().sum()"
   ]
  },
  {
   "cell_type": "code",
   "execution_count": 8,
   "metadata": {},
   "outputs": [
    {
     "data": {
      "text/plain": [
       "np.int64(0)"
      ]
     },
     "execution_count": 8,
     "metadata": {},
     "output_type": "execute_result"
    }
   ],
   "source": [
    "Data.duplicated().sum()"
   ]
  },
  {
   "cell_type": "code",
   "execution_count": 9,
   "metadata": {},
   "outputs": [
    {
     "data": {
      "text/plain": [
       "hotel_id      0\n",
       "hotel_name    0\n",
       "SOURCE        0\n",
       "price         0\n",
       "base_price    0\n",
       "checkIn       0\n",
       "checkOut      0\n",
       "count         0\n",
       "rating        0\n",
       "Info          0\n",
       "latitude      0\n",
       "longitude     0\n",
       "dtype: int64"
      ]
     },
     "execution_count": 9,
     "metadata": {},
     "output_type": "execute_result"
    }
   ],
   "source": [
    "Data.isna().sum()"
   ]
  },
  {
   "cell_type": "code",
   "execution_count": 10,
   "metadata": {},
   "outputs": [],
   "source": [
    "import os\n",
    "\n",
    "desktop = os.path.expanduser(\"~/Desktop/cleaned_data.csv\")\n",
    "Data.to_csv(desktop, index=False)"
   ]
  }
 ],
 "metadata": {
  "kernelspec": {
   "display_name": "Python 3",
   "language": "python",
   "name": "python3"
  },
  "language_info": {
   "codemirror_mode": {
    "name": "ipython",
    "version": 3
   },
   "file_extension": ".py",
   "mimetype": "text/x-python",
   "name": "python",
   "nbconvert_exporter": "python",
   "pygments_lexer": "ipython3",
   "version": "3.11.9"
  }
 },
 "nbformat": 4,
 "nbformat_minor": 2
}
